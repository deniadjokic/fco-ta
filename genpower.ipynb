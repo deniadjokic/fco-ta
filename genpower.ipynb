{
 "metadata": {
  "name": "",
  "signature": "sha256:2176d32de20cc370d9ba6574341b80d04636bb9aceb4ad8429705f8971b3523a"
 },
 "nbformat": 3,
 "nbformat_minor": 0,
 "worksheets": [
  {
   "cells": [
    {
     "cell_type": "code",
     "collapsed": false,
     "input": [
      "import matplotlib\n",
      "%matplotlib inline\n",
      "import matplotlib.pyplot as plt\n",
      "import numpy as np\n",
      "import pandas as pd\n",
      "import cymetric as cym"
     ],
     "language": "python",
     "metadata": {},
     "outputs": [],
     "prompt_number": 9
    },
    {
     "cell_type": "code",
     "collapsed": false,
     "input": [
      "with cym.dbopen('y.h5') as db:\n",
      "    evaler = cym.Evaluator(db)\n",
      "    agents = evaler.eval('Agents')\n",
      "    blrx = evaler.eval('AgentState_Brightlite_ReactorFacilityInfo')"
     ],
     "language": "python",
     "metadata": {},
     "outputs": [],
     "prompt_number": 10
    },
    {
     "cell_type": "code",
     "collapsed": false,
     "input": [
      "df = pd.merge(agents, blrx[['SimId', 'AgentId', 'generated_power']], on=['SimId', 'AgentId'])\n",
      "df"
     ],
     "language": "python",
     "metadata": {},
     "outputs": [
      {
       "html": [
        "<div style=\"max-height:1000px;max-width:1500px;overflow:auto;\">\n",
        "<table border=\"1\" class=\"dataframe\">\n",
        "  <thead>\n",
        "    <tr style=\"text-align: right;\">\n",
        "      <th></th>\n",
        "      <th>SimId</th>\n",
        "      <th>AgentId</th>\n",
        "      <th>Kind</th>\n",
        "      <th>Spec</th>\n",
        "      <th>Prototype</th>\n",
        "      <th>ParentId</th>\n",
        "      <th>Lifetime</th>\n",
        "      <th>EnterTime</th>\n",
        "      <th>ExitTime</th>\n",
        "      <th>generated_power</th>\n",
        "    </tr>\n",
        "  </thead>\n",
        "  <tbody>\n",
        "    <tr>\n",
        "      <th>0</th>\n",
        "      <td> f22f2281-2464-420a-8325-37320fd418f8</td>\n",
        "      <td> 34</td>\n",
        "      <td> Facility</td>\n",
        "      <td> :Brightlite:ReactorFacility</td>\n",
        "      <td> LWR</td>\n",
        "      <td> 33</td>\n",
        "      <td>-1</td>\n",
        "      <td>  5</td>\n",
        "      <td> 120</td>\n",
        "      <td> 1000</td>\n",
        "    </tr>\n",
        "    <tr>\n",
        "      <th>1</th>\n",
        "      <td> f22f2281-2464-420a-8325-37320fd418f8</td>\n",
        "      <td> 35</td>\n",
        "      <td> Facility</td>\n",
        "      <td> :Brightlite:ReactorFacility</td>\n",
        "      <td> LWR</td>\n",
        "      <td> 33</td>\n",
        "      <td>-1</td>\n",
        "      <td>  5</td>\n",
        "      <td> 120</td>\n",
        "      <td> 1000</td>\n",
        "    </tr>\n",
        "    <tr>\n",
        "      <th>2</th>\n",
        "      <td> f22f2281-2464-420a-8325-37320fd418f8</td>\n",
        "      <td> 36</td>\n",
        "      <td> Facility</td>\n",
        "      <td> :Brightlite:ReactorFacility</td>\n",
        "      <td> FRx</td>\n",
        "      <td> 33</td>\n",
        "      <td>-1</td>\n",
        "      <td> 10</td>\n",
        "      <td> 120</td>\n",
        "      <td> 1000</td>\n",
        "    </tr>\n",
        "  </tbody>\n",
        "</table>\n",
        "</div>"
       ],
       "metadata": {},
       "output_type": "pyout",
       "prompt_number": 11,
       "text": [
        "                                  SimId  AgentId      Kind  \\\n",
        "0  f22f2281-2464-420a-8325-37320fd418f8       34  Facility   \n",
        "1  f22f2281-2464-420a-8325-37320fd418f8       35  Facility   \n",
        "2  f22f2281-2464-420a-8325-37320fd418f8       36  Facility   \n",
        "\n",
        "                          Spec Prototype  ParentId  Lifetime  EnterTime  \\\n",
        "0  :Brightlite:ReactorFacility       LWR        33        -1          5   \n",
        "1  :Brightlite:ReactorFacility       LWR        33        -1          5   \n",
        "2  :Brightlite:ReactorFacility       FRx        33        -1         10   \n",
        "\n",
        "   ExitTime  generated_power  \n",
        "0       120             1000  \n",
        "1       120             1000  \n",
        "2       120             1000  "
       ]
      }
     ],
     "prompt_number": 11
    },
    {
     "cell_type": "code",
     "collapsed": false,
     "input": [
      "power = pd.DataFrame({'Prototype': [], 'power': [], 'time': []})\n",
      "for name, group in df.groupby('Prototype'):\n",
      "    for i, row in group.iterrows():\n",
      "        months = np.arange(row.loc['EnterTime'], row.loc['ExitTime'] + 1)\n",
      "        nmonths = len(months)\n",
      "        p = pd.DataFrame({'Prototype': [name]*nmonths, 'power': [row['generated_power']]*nmonths, 'time': months})\n",
      "        power = power.append(p)"
     ],
     "language": "python",
     "metadata": {},
     "outputs": [],
     "prompt_number": 12
    },
    {
     "cell_type": "code",
     "collapsed": false,
     "input": [
      "totpower = power.groupby(['Prototype', 'time']).sum()\n",
      "prototypes = totpower.index.levels[0]\n",
      "x = totpower.loc[prototypes[0]]\n",
      "x.rename(columns={'power': prototypes[0]}, inplace=True)\n",
      "x.reset_index(inplace=True)\n",
      "for ptype in prototypes[1:]:\n",
      "    col = totpower.loc[ptype]\n",
      "    col.rename(columns={'power': ptype}, inplace=True)\n",
      "    col.reset_index(inplace=True)\n",
      "    x = pd.merge(x, col, on=['time'], how='outer')\n",
      "x.fillna(0.0, inplace=True)\n",
      "x.sort(columns=['time'], inplace=True)\n",
      "x.plot(x='time', kind='area')\n",
      "plt.ylabel('Generated Power [MWe]')"
     ],
     "language": "python",
     "metadata": {},
     "outputs": [
      {
       "metadata": {},
       "output_type": "pyout",
       "prompt_number": 13,
       "text": [
        "<matplotlib.text.Text at 0x7fad1abf82b0>"
       ]
      },
      {
       "metadata": {},
       "output_type": "display_data",
       "png": "[encoded data removed]",
       "text": [
        "<matplotlib.figure.Figure at 0x7fad1acdb278>"
       ]
      }
     ],
     "prompt_number": 13
    }
   ],
   "metadata": {}
  }
 ]
}